{
 "cells": [
  {
   "cell_type": "code",
   "execution_count": 1,
   "metadata": {},
   "outputs": [
    {
     "name": "stderr",
     "output_type": "stream",
     "text": [
      "/opt/conda/lib/python3.7/site-packages/ipykernel_launcher.py:19: DeprecationWarning: `set_matplotlib_formats` is deprecated since IPython 7.23, directly use `matplotlib_inline.backend_inline.set_matplotlib_formats()`\n"
     ]
    }
   ],
   "source": [
    "# install metacells\n",
    "#pip install metacells\n",
    "\n",
    "# import libraries for visualization\n",
    "import anndata as ad\n",
    "import matplotlib.pyplot as plt\n",
    "import metacells as mc\n",
    "import numpy as np\n",
    "import os\n",
    "import pandas as pd\n",
    "import scipy.sparse as sp\n",
    "import seaborn as sb\n",
    "import scanpy\n",
    "\n",
    "from math import hypot\n",
    "from matplotlib.collections import LineCollection\n",
    "from IPython.display import set_matplotlib_formats\n",
    "\n",
    "set_matplotlib_formats('svg')\n",
    "sb.set_style(\"white\")"
   ]
  },
  {
   "cell_type": "code",
   "execution_count": null,
   "metadata": {},
   "outputs": [],
   "source": [
    "!ls \"../../Alyssa/Single_Cell_CHIP/demultiplexed/DNMT3A_Mutant\"\n",
    "!cd ../../Alyssa/Single_Cell_CHIP\n",
    "#!mkdir h5ad_files"
   ]
  },
  {
   "cell_type": "code",
   "execution_count": null,
   "metadata": {},
   "outputs": [],
   "source": [
    "tet2_stim = scanpy.read_10x_mtx(\"../../Alyssa/Single_Cell_CHIP/demultiplexed/TET2 STIM\")\n",
    "tet2_stim.write_h5ad(\"../../Alyssa/Single_Cell_CHIP/h5ad_files/tet2_stim.h5ad\")"
   ]
  },
  {
   "cell_type": "code",
   "execution_count": null,
   "metadata": {
    "scrolled": true
   },
   "outputs": [],
   "source": [
    "!head ../../Alyssa/Single_Cell_CHIP/metacells/no_veh_metacells.csv"
   ]
  },
  {
   "cell_type": "code",
   "execution_count": null,
   "metadata": {},
   "outputs": [],
   "source": [
    "!ls \"../../Alyssa/Single_Cell_CHIP/h5ad_files/\""
   ]
  },
  {
   "cell_type": "code",
   "execution_count": null,
   "metadata": {},
   "outputs": [],
   "source": [
    "!gsutil cp -r ../../Alyssa/Single_Cell_CHIP/h5ad_files gs://fc-112f611a-aca5-42eb-9970-5050086b3e8d/Single_Cell_CHIP/ "
   ]
  },
  {
   "cell_type": "code",
   "execution_count": null,
   "metadata": {},
   "outputs": [],
   "source": [
    "raw = ad.read_h5ad(\"../../Alyssa/Single_Cell_CHIP/h5ad_files/tet2_stim.h5ad\")\n",
    "mc.ut.set_name(raw, \"PBMC\")\n",
    "print(raw.shape)"
   ]
  },
  {
   "cell_type": "code",
   "execution_count": null,
   "metadata": {},
   "outputs": [],
   "source": [
    "excluded_gene_names = ['IGHMBP2', 'IGLL1', 'IGLL5', 'IGLON5', 'NEAT1', 'TMSB10', 'TMSB4X']\n",
    "excluded_gene_patterns = ['MT-.*']"
   ]
  },
  {
   "cell_type": "code",
   "execution_count": null,
   "metadata": {},
   "outputs": [],
   "source": [
    "# exclude low quality genes\n",
    "mc.pl.analyze_clean_genes(raw,\n",
    "                          excluded_gene_names=excluded_gene_names,\n",
    "                          excluded_gene_patterns=excluded_gene_patterns,\n",
    "                          random_seed=123456)"
   ]
  },
  {
   "cell_type": "code",
   "execution_count": null,
   "metadata": {},
   "outputs": [],
   "source": [
    "mc.pl.pick_clean_genes(raw)\n",
    "raw.write(\"../../Alyssa/Single_Cell_CHIP/h5ad_files/full_tet2_stim.h5ad\")\n",
    "full = raw"
   ]
  },
  {
   "cell_type": "code",
   "execution_count": null,
   "metadata": {},
   "outputs": [],
   "source": [
    "full = ad.read_h5ad(\"../../Alyssa/Single_Cell_CHIP/h5ad_files/full_tet2_stim.h5ad\")"
   ]
  },
  {
   "cell_type": "code",
   "execution_count": null,
   "metadata": {},
   "outputs": [],
   "source": [
    "properly_sampled_max_excluded_genes_fraction = 0.1\n",
    "properly_sampled_min_cell_total = 800\n",
    "properly_sampled_max_cell_total = 8000\n",
    "\n",
    "mc.pl.analyze_clean_cells(\n",
    "    full,\n",
    "    properly_sampled_min_cell_total=properly_sampled_min_cell_total,\n",
    "    properly_sampled_max_cell_total=properly_sampled_max_cell_total,\n",
    "    properly_sampled_max_excluded_genes_fraction=properly_sampled_max_excluded_genes_fraction)"
   ]
  },
  {
   "cell_type": "code",
   "execution_count": null,
   "metadata": {},
   "outputs": [],
   "source": [
    "mc.pl.pick_clean_cells(full)"
   ]
  },
  {
   "cell_type": "code",
   "execution_count": null,
   "metadata": {},
   "outputs": [],
   "source": [
    "clean = mc.pl.extract_clean_data(full)"
   ]
  },
  {
   "cell_type": "code",
   "execution_count": null,
   "metadata": {},
   "outputs": [],
   "source": [
    "suspect_gene_names = ['PCNA', 'MKI67', 'TOP2A', 'HIST1H1D',\n",
    "                      'FOS', 'JUN', 'HSP90AB1', 'HSPA1A',\n",
    "                      'ISG15', 'WARS' ]\n",
    "suspect_gene_patterns = [ 'MCM[0-9]', 'SMC[0-9]', 'IFI.*' ]\n",
    "suspect_genes_mask = mc.tl.find_named_genes(clean, names=suspect_gene_names,\n",
    "                                            patterns=suspect_gene_patterns)\n",
    "suspect_gene_names = sorted(clean.var_names[suspect_genes_mask])"
   ]
  },
  {
   "cell_type": "code",
   "execution_count": null,
   "metadata": {},
   "outputs": [],
   "source": [
    "mc.pl.relate_genes(clean, random_seed=123456)"
   ]
  },
  {
   "cell_type": "code",
   "execution_count": null,
   "metadata": {},
   "outputs": [],
   "source": [
    "module_of_genes = clean.var['related_genes_module']\n",
    "suspect_gene_modules = np.unique(module_of_genes[suspect_genes_mask])\n",
    "suspect_gene_modules = suspect_gene_modules[suspect_gene_modules >= 0]\n",
    "print(suspect_gene_modules)"
   ]
  },
  {
   "cell_type": "code",
   "execution_count": null,
   "metadata": {},
   "outputs": [],
   "source": [
    "similarity_of_genes = mc.ut.get_vv_frame(clean, 'related_genes_similarity')\n",
    "for gene_module in suspect_gene_modules:\n",
    "    module_genes_mask = module_of_genes == gene_module\n",
    "    similarity_of_module = similarity_of_genes.loc[module_genes_mask, module_genes_mask]\n",
    "    similarity_of_module.index = \\\n",
    "    similarity_of_module.columns = [\n",
    "        '(*) ' + name if name in suspect_gene_names else name\n",
    "        for name in similarity_of_module.index\n",
    "    ]\n",
    "    ax = plt.axes()\n",
    "    sb.heatmap(similarity_of_module, vmin=0, vmax=1, xticklabels=True, yticklabels=True, ax=ax, cmap=\"YlGnBu\")\n",
    "    ax.set_title(f'Gene Module {gene_module}')\n",
    "    plt.show()\n",
    "    print(similarity_of_module.mean().mean())"
   ]
  },
  {
   "cell_type": "code",
   "execution_count": null,
   "metadata": {},
   "outputs": [],
   "source": [
    "forbidden_genes_mask = suspect_genes_mask\n",
    "for gene_module in [28, 31, 44]:\n",
    "    module_genes_mask = module_of_genes == gene_module\n",
    "    forbidden_genes_mask |= module_genes_mask\n",
    "forbidden_gene_names = sorted(clean.var_names[forbidden_genes_mask])\n",
    "print(len(forbidden_gene_names))\n",
    "print(' '.join(forbidden_gene_names))"
   ]
  },
  {
   "cell_type": "code",
   "execution_count": null,
   "metadata": {},
   "outputs": [],
   "source": [
    "max_parallel_piles = mc.pl.guess_max_parallel_piles(clean)\n",
    "print(max_parallel_piles)\n",
    "mc.pl.set_max_parallel_piles(max_parallel_piles)"
   ]
  },
  {
   "cell_type": "code",
   "execution_count": null,
   "metadata": {},
   "outputs": [],
   "source": [
    "\n",
    "with mc.ut.progress_bar():\n",
    "    mc.pl.divide_and_conquer_pipeline(clean,\n",
    "                                      forbidden_gene_names=forbidden_gene_names,\n",
    "                                      #target_metacell_size=...,\n",
    "                                      random_seed=123456)"
   ]
  },
  {
   "cell_type": "code",
   "execution_count": null,
   "metadata": {},
   "outputs": [],
   "source": [
    "clean.obs[\"metacell\"].to_csv(\"../../Alyssa/Single_Cell_CHIP/metacells/test.csv\")\n"
   ]
  },
  {
   "cell_type": "code",
   "execution_count": null,
   "metadata": {},
   "outputs": [],
   "source": [
    "metacells = mc.pl.collect_metacells(clean, name='PBMC.metacells')"
   ]
  },
  {
   "cell_type": "code",
   "execution_count": null,
   "metadata": {},
   "outputs": [],
   "source": [
    "mc.pl.compute_umap_by_features(metacells, max_top_feature_genes=1000,\n",
    "                               min_dist=2.0, random_seed=123456)"
   ]
  },
  {
   "cell_type": "code",
   "execution_count": null,
   "metadata": {},
   "outputs": [],
   "source": [
    "umap_x = mc.ut.get_o_numpy(metacells, 'umap_x')\n",
    "umap_y = mc.ut.get_o_numpy(metacells, 'umap_y')\n",
    "plot = sb.scatterplot(x=umap_x, y=umap_y)"
   ]
  },
  {
   "cell_type": "code",
   "execution_count": null,
   "metadata": {},
   "outputs": [],
   "source": [
    "name = metacells.uns['__name__']\n",
    "del metacells.uns['__name__']\n",
    "metacells.write('../../Alyssa/Single_Cell_CHIP/h5ad_files/tet2_stim_for_seurat.h5ad')"
   ]
  },
  {
   "cell_type": "code",
   "execution_count": 2,
   "metadata": {},
   "outputs": [],
   "source": [
    "def run_metacells(group_name, target_metacell_size=160000):\n",
    "    group_data = scanpy.read_10x_mtx(\"../../Alyssa/Single_Cell_CHIP/demultiplexed/\" + group_name)\n",
    "    h5ad_filename = \"../../Alyssa/Single_Cell_CHIP/h5ad_files/\" + group_name.lower().replace(\" \", \"_\") + \".h5ad\"\n",
    "    group_data.write_h5ad(h5ad_filename)\n",
    "    \n",
    "    raw = ad.read_h5ad(h5ad_filename)\n",
    "    mc.ut.set_name(raw, \"PBMC\")\n",
    "    \n",
    "    excluded_gene_names = ['IGHMBP2', 'IGLL1', 'IGLL5', 'IGLON5', 'NEAT1', 'TMSB10', 'TMSB4X']\n",
    "    excluded_gene_patterns = ['MT-.*']\n",
    "    \n",
    "    # exclude low quality genes\n",
    "    mc.pl.analyze_clean_genes(raw,\n",
    "                          excluded_gene_names=excluded_gene_names,\n",
    "                          excluded_gene_patterns=excluded_gene_patterns,\n",
    "                          random_seed=123456)\n",
    "    \n",
    "    mc.pl.pick_clean_genes(raw)\n",
    "    raw.write(\"../../Alyssa/Single_Cell_CHIP/h5ad_files/full_\" + group_name.lower().replace(\" \", \"_\") + \".h5ad\")\n",
    "    full = raw\n",
    "    \n",
    "    properly_sampled_min_cell_total = 800\n",
    "    properly_sampled_max_cell_total = 8000\n",
    "    properly_sampled_max_excluded_genes_fraction = 0.1\n",
    "    \n",
    "    mc.pl.analyze_clean_cells(\n",
    "        full,\n",
    "        properly_sampled_min_cell_total=properly_sampled_min_cell_total,\n",
    "        properly_sampled_max_cell_total=properly_sampled_max_cell_total,\n",
    "        properly_sampled_max_excluded_genes_fraction=properly_sampled_max_excluded_genes_fraction)\n",
    "    \n",
    "    mc.pl.pick_clean_cells(full)\n",
    "    clean = mc.pl.extract_clean_data(full)\n",
    "    \n",
    "    suspect_gene_names = ['PCNA', 'MKI67', 'TOP2A', 'HIST1H1D',\n",
    "                      'FOS', 'JUN', 'HSP90AB1', 'HSPA1A',\n",
    "                      'ISG15', 'WARS' ]\n",
    "    suspect_gene_patterns = [ 'MCM[0-9]', 'SMC[0-9]', 'IFI.*' ]\n",
    "    suspect_genes_mask = mc.tl.find_named_genes(clean, names=suspect_gene_names,\n",
    "                                            patterns=suspect_gene_patterns)\n",
    "    suspect_gene_names = sorted(clean.var_names[suspect_genes_mask])\n",
    "    \n",
    "    mc.pl.relate_genes(clean, random_seed=123456)\n",
    "    \n",
    "    module_of_genes = clean.var['related_genes_module']\n",
    "    suspect_gene_modules = np.unique(module_of_genes[suspect_genes_mask])\n",
    "    suspect_gene_modules = suspect_gene_modules[suspect_gene_modules >= 0]\n",
    "    \n",
    "    similarity_of_genes = mc.ut.get_vv_frame(clean, 'related_genes_similarity')\n",
    "    suspect_modules = []\n",
    "    \n",
    "    #replace the for loop below with a condition (eg. if median similarity score for matrix is greater than 0.75, exclude module)\n",
    "    for gene_module in suspect_gene_modules:\n",
    "        module_genes_mask = module_of_genes == gene_module\n",
    "        similarity_of_module = similarity_of_genes.loc[module_genes_mask, module_genes_mask]\n",
    "        similarity_of_module.index = \\\n",
    "        similarity_of_module.columns = [\n",
    "            '(*) ' + name if name in suspect_gene_names else name\n",
    "            for name in similarity_of_module.index\n",
    "        ]\n",
    "        module_mean_value = similarity_of_module.mean().mean()\n",
    "        if module_mean_value > 0.75:\n",
    "            suspect_modules.append(gene_module)\n",
    "            \n",
    "    forbidden_genes_mask = suspect_genes_mask\n",
    "    for gene_module in suspect_modules:\n",
    "        module_genes_mask = module_of_genes == gene_module\n",
    "        forbidden_genes_mask |= module_genes_mask\n",
    "    forbidden_gene_names = sorted(clean.var_names[forbidden_genes_mask])\n",
    "    \n",
    "    max_parallel_piles = mc.pl.guess_max_parallel_piles(clean)\n",
    "    mc.pl.set_max_parallel_piles(max_parallel_piles)\n",
    "    mc.pl.set_max_parallel_piles(1)\n",
    "    \n",
    "    \n",
    "    with mc.ut.progress_bar():\n",
    "        mc.pl.divide_and_conquer_pipeline(clean,\n",
    "                                          forbidden_gene_names=forbidden_gene_names,\n",
    "                                          random_seed=123456,\n",
    "                                          target_metacell_size=target_metacell_size)\n",
    "\n",
    "    clean.obs[\"metacell\"].to_csv(\"../../Alyssa/Single_Cell_CHIP/metacells/\" + group_name.lower().replace(\" \", \"_\") + \"_metacells.csv\")\n",
    "\n",
    "    metacells = mc.pl.collect_metacells(clean, name='PBMC.metacells')\n",
    "    #mc.pl.compute_umap_by_features(metacells, max_top_feature_genes=1000,\n",
    "    #                           min_dist=2.0, random_seed=123456)\n",
    "    \n",
    "    name = metacells.uns['__name__']\n",
    "    del metacells.uns['__name__']\n",
    "    metacells.write(\"../../Alyssa/Single_Cell_CHIP/h5ad_files/\" + group_name.lower().replace(\" \", \"_\") + \"_for_seurat.h5ad\")\n",
    "    "
   ]
  },
  {
   "cell_type": "code",
   "execution_count": null,
   "metadata": {},
   "outputs": [],
   "source": [
    "#group_list = [\"TET2 STIM\", \"TET2 VEH\", \"DNMT3A STIM\", \"DNMT3A VEH\", \"none STIM\", \"none VEH\"]\n",
    "#for group in group_list:\n",
    "#    run_metacells(group)\n",
    "    \n",
    "run_metacells(\"DNMT3A STIM\")"
   ]
  },
  {
   "cell_type": "code",
   "execution_count": 3,
   "metadata": {},
   "outputs": [
    {
     "name": "stderr",
     "output_type": "stream",
     "text": [
      "set PBMC.var[properly_sampled_gene]: 12776 true (35.02%) out of 36485 bools\n",
      "set PBMC.var[excluded_gene]: 6 true (0.01645%) out of 36485 bools\n",
      "set PBMC.var[noisy_lonely_gene]: 0 true (0%) out of 36485 bools\n",
      "set PBMC.var[clean_gene]: 12772 true (35.01%) out of 36485 bools\n",
      "set PBMC.obs[properly_sampled_cell]: 308 true (100%) out of 308 bools\n",
      "set PBMC.obs[clean_cell]: 308 true (100%) out of 308 bools\n",
      "set PBMC.clean.obs[full_cell_index]: 308 int64s\n",
      "set PBMC.clean.var[full_gene_index]: 12772 int64s\n",
      "set PBMC.clean.var[related_genes_module]: 12151 outliers (95.14%) out of 12772 int32 elements with 36 groups with mean size 17.25\n",
      "set PBMC.clean.varp[related_genes_similarity]: csr_matrix 12772 X 12772 float32s (385641 > 0)\n",
      "Compute metacells for rare gene modules...\n",
      "Compute common metacells...\n"
     ]
    }
   ],
   "source": [
    "#run_metacells(\"TET2_Wildtype_CD14_Monos\", 80000)\n",
    "#run_metacells(\"TET2_Mutant_CD14_Monos\", 80000)\n",
    "#run_metacells(\"DNMT3A_Wildtype_CD14_Monos\", 80000)\n",
    "run_metacells(\"DNMT3A_Mutant_CD14_Monos\", 80000)"
   ]
  }
 ],
 "metadata": {
  "kernelspec": {
   "display_name": "Python 3",
   "language": "python",
   "name": "python3"
  },
  "language_info": {
   "codemirror_mode": {
    "name": "ipython",
    "version": 3
   },
   "file_extension": ".py",
   "mimetype": "text/x-python",
   "name": "python",
   "nbconvert_exporter": "python",
   "pygments_lexer": "ipython3",
   "version": "3.7.12"
  },
  "toc": {
   "base_numbering": 1,
   "nav_menu": {},
   "number_sections": true,
   "sideBar": true,
   "skip_h1_title": false,
   "title_cell": "Table of Contents",
   "title_sidebar": "Contents",
   "toc_cell": false,
   "toc_position": {},
   "toc_section_display": true,
   "toc_window_display": false
  }
 },
 "nbformat": 4,
 "nbformat_minor": 2
}
